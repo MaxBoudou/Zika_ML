{
 "cells": [
  {
   "cell_type": "code",
   "execution_count": 1,
   "metadata": {},
   "outputs": [],
   "source": [
    "# Libraries\n",
    "\n",
    "import numpy as np\n",
    "import pandas as pd\n",
    "import time\n",
    "import datetime\n",
    "import matplotlib.pyplot as plt"
   ]
  },
  {
   "cell_type": "code",
   "execution_count": 21,
   "metadata": {},
   "outputs": [
    {
     "name": "stdout",
     "output_type": "stream",
     "text": [
      "['time', 'third_last', 'second_last', 'last', 'population']\n"
     ]
    }
   ],
   "source": [
    "# Importing our dataset\n",
    "\n",
    "df_p = pd.read_csv(\"../new_data_def/puerto_rico.csv\")\n",
    "df_d = pd.read_csv('../new_data_def/dominican_republic_country.csv')\n",
    "df_e = pd.read_csv('../new_data_def/el_salvador_country.csv')\n",
    "\n",
    "dfs = [df_p, df_d, df_e]\n",
    "features = pd.DataFrame(columns=['time', 'third_last','second_last','last', 'population'])\n",
    "label = np.array([])\n",
    "for i, df in enumerate(dfs) :\n",
    "\n",
    "    X = df.iloc[:, 0].values\n",
    "    y = df.iloc[:, 4].values\n",
    "    \n",
    "    label = np.append(label,y)\n",
    "    \n",
    "    if i == 0: population = 3283121\n",
    "    elif i == 1 : population = 1063000\n",
    "    elif i == 2 : population = 6421000\n",
    "\n",
    "    initial_date = X[0]\n",
    "        \n",
    "    for n, values in enumerate(X) :\n",
    "        X[n] = int((datetime.datetime.strptime(values, \"%Y-%m-%d\").timestamp() - datetime.datetime.strptime(initial_date, \"%Y-%m-%d\").timestamp())/86400)\n",
    "    #print(X)\n",
    "\n",
    "\n",
    "    for index, row in enumerate(y):\n",
    "        if index==2:\n",
    "            tab = [0,y[index-2],y[index-1]]\n",
    "        elif index == 1:\n",
    "            tab = [0,0,y[index-1]]\n",
    "        elif index == 0:\n",
    "            tab = [0,0,0]\n",
    "        else :\n",
    "            tab = [y[index-3],y[index-2],y[index-1]]\n",
    "        new_row = {'time':X[index], 'third_last':tab[0], 'second_last':tab[1], 'last':tab[2], 'population' : population}\n",
    "        features = features.append(new_row, ignore_index=True)\n",
    "        \n",
    "    if i == 0 :\n",
    "        X_test_p = np.array(features)\n",
    "\n",
    "X = np.array(features)\n",
    "y = label\n",
    "feature_list = list(features.columns)\n",
    "\n",
    "print(feature_list)"
   ]
  },
  {
   "cell_type": "code",
   "execution_count": 24,
   "metadata": {},
   "outputs": [
    {
     "name": "stdout",
     "output_type": "stream",
     "text": [
      "Training Features Shape: (193, 5)\n",
      "Training Labels Shape: (193,)\n",
      "Testing Features Shape: (49, 5)\n",
      "Testing Labels Shape: (49,)\n"
     ]
    }
   ],
   "source": [
    "# Splitting into training and testing set\n",
    "\n",
    "from sklearn.model_selection import train_test_split\n",
    "X_train, X_test, y_train, y_test = train_test_split(X, y, test_size = 0.2, random_state = 42)\n",
    "\n",
    "X_test_p = np.intersect1d(X_test[:,0], X_test_p[:,0])\n",
    "      \n",
    "print('Training Features Shape:', X_train.shape)\n",
    "print('Training Labels Shape:', y_train.shape)\n",
    "print('Testing Features Shape:', X_test.shape)\n",
    "print('Testing Labels Shape:', y_test.shape)"
   ]
  },
  {
   "cell_type": "code",
   "execution_count": 5,
   "metadata": {},
   "outputs": [
    {
     "name": "stdout",
     "output_type": "stream",
     "text": [
      "Variable: last                 Importance: 0.89\n",
      "Variable: second_last          Importance: 0.05\n",
      "Variable: third_last           Importance: 0.03\n",
      "Variable: time                 Importance: 0.02\n",
      "Variable: population           Importance: 0.0\n",
      "Mean Absolute Error: 155.69 cases.\n",
      "R Squared for Random Forest : 0.9841916554805281\n"
     ]
    }
   ],
   "source": [
    "# Fitting random forest regression to the dataset\n",
    "\n",
    "from sklearn.ensemble import RandomForestRegressor\n",
    "from sklearn.metrics import r2_score\n",
    "\n",
    "rf = RandomForestRegressor(n_estimators=300, max_depth=10, min_samples_split=3)\n",
    "rf.fit(X_train, y_train)\n",
    "\n",
    "rf_pred = rf.predict(X_test)\n",
    "\n",
    "rf_errors = abs(rf_pred - y_test)\n",
    "\n",
    "# Get numerical feature importances\n",
    "\n",
    "importances = list(rf.feature_importances_)# List of tuples with variable and importance\n",
    "\n",
    "feature_importances = [(feature, round(importance, 2)) for feature, importance in zip(feature_list, importances)]# Sort the feature importances by most important first\n",
    "feature_importances = sorted(feature_importances, key = lambda x: x[1], reverse = True)# Print out the feature and importances \n",
    "[print('Variable: {:20} Importance: {}'.format(*pair)) for pair in feature_importances];\n",
    "\n",
    "print('Mean Absolute Error:', round(np.mean(rf_errors), 2), 'cases.')\n",
    "print('R Squared for Random Forest :', r2_score(y_test, rf_pred))\n"
   ]
  },
  {
   "cell_type": "code",
   "execution_count": 6,
   "metadata": {},
   "outputs": [
    {
     "name": "stdout",
     "output_type": "stream",
     "text": [
      "Variable: last                 Importance: 0.91\n",
      "Variable: second_last          Importance: 0.04\n",
      "Variable: time                 Importance: 0.03\n",
      "Variable: third_last           Importance: 0.02\n",
      "Variable: population           Importance: 0.0\n",
      "Mean Absolute Error: 150.31 cases.\n",
      "R Squared for Gradient Boosting : 0.9869395215940732\n"
     ]
    }
   ],
   "source": [
    "# Fitting Gradient boosting regression to the dataset\n",
    "\n",
    "from sklearn.ensemble import GradientBoostingRegressor\n",
    "\n",
    "gbm = GradientBoostingRegressor(n_estimators=600, max_depth=5, learning_rate=0.01, min_samples_split=3)\n",
    "gbm.fit(X_train, y_train)\n",
    "\n",
    "gbm_pred = gbm.predict(X_test)\n",
    "gbm_errors = abs(gbm_pred - y_test)\n",
    "\n",
    "# Get numerical feature importances\n",
    "\n",
    "importances = list(gbm.feature_importances_)# List of tuples with variable and importance\n",
    "\n",
    "feature_importances = [(feature, round(importance, 2)) for feature, importance in zip(feature_list, importances)]# Sort the feature importances by most important first\n",
    "feature_importances = sorted(feature_importances, key = lambda x: x[1], reverse = True)# Print out the feature and importances \n",
    "[print('Variable: {:20} Importance: {}'.format(*pair)) for pair in feature_importances];\n",
    "\n",
    "print('Mean Absolute Error:', round(np.mean(gbm_errors), 2), 'cases.')\n",
    "print('R Squared for Gradient Boosting :', r2_score(y_test, gbm_pred))\n"
   ]
  },
  {
   "cell_type": "code",
   "execution_count": 7,
   "metadata": {},
   "outputs": [
    {
     "data": {
      "image/png": "[encoded data removed]",
      "text/plain": [
       "<Figure size 432x288 with 1 Axes>"
      ]
     },
     "metadata": {
      "needs_background": "light"
     },
     "output_type": "display_data"
    }
   ],
   "source": [
    "plt.plot(X[0:89,0], y[0:89], 'b-', label = 'actual')\n",
    "plt.plot(X_test[0:89,0], rf.predict(X_test, 'ro', label = 'rf prediction')\n",
    "plt.plot(X_test[0:89,0], gbm_pred, 'go', label = 'gbm prediction')\n",
    "plt.xticks(rotation = '60'); \n",
    "plt.legend()\n",
    "\n",
    "plt.xlabel('Number of days since first case'); \n",
    "plt.ylabel('Number of cases'); \n",
    "plt.title('Actual and Predicted Values');"
   ]
  },
  {
   "cell_type": "code",
   "execution_count": null,
   "metadata": {},
   "outputs": [],
   "source": []
  }
 ],
 "metadata": {
  "kernelspec": {
   "display_name": "Python 3",
   "language": "python",
   "name": "python3"
  },
  "language_info": {
   "codemirror_mode": {
    "name": "ipython",
    "version": 3
   },
   "file_extension": ".py",
   "mimetype": "text/x-python",
   "name": "python",
   "nbconvert_exporter": "python",
   "pygments_lexer": "ipython3",
   "version": "3.8.3"
  }
 },
 "nbformat": 4,
 "nbformat_minor": 4
}
