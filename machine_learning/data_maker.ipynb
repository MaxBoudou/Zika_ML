{
 "cells": [
  {
   "cell_type": "markdown",
   "metadata": {},
   "source": [
    "# Creating a base dataset\n",
    "\n",
    "The goal of this notebook is to create a csv files for each country, where we put the data we want. It can be changed to add more parameters or remove some.\n",
    "\n",
    "\n",
    "## Import the libraries"
   ]
  },
  {
   "cell_type": "code",
   "execution_count": 1,
   "metadata": {},
   "outputs": [
    {
     "data": {
      "text/plain": [
       "'import numpy as np\\nimport sklearn as sk'"
      ]
     },
     "execution_count": 1,
     "metadata": {},
     "output_type": "execute_result"
    }
   ],
   "source": [
    "import os\n",
    "import pandas as pd\n",
    "\"\"\"import numpy as np\n",
    "import sklearn as sk\"\"\""
   ]
  },
  {
   "cell_type": "markdown",
   "metadata": {},
   "source": [
    "## Importing the data\n",
    "First, we want to create the paths to our data. We proceed to list the countries, and create the link to the 'data' directory inside all countries' directory. We then put them in a matrix, where rows are countries and the columns are the insitutions reporting this data."
   ]
  },
  {
   "cell_type": "code",
   "execution_count": 2,
   "metadata": {},
   "outputs": [
    {
     "name": "stdout",
     "output_type": "stream",
     "text": [
      "[['base_data/Brazil/COES_Microcephaly/data/', 'base_data/Brazil/Epidemiological_Bulletin/data/'], ['base_data/Colombia/Epidemiological_Bulletin/data/', 'base_data/Colombia/Municipality_Zika/data/'], ['base_data/Guatemala/SEMEPI/data/'], ['base_data/Puerto_Rico/PRDH_Arbovirus/data/'], ['base_data/United_States/CDC_Report/data/', 'base_data/United_States/FDH_Arbovirus/data/']]\n"
     ]
    }
   ],
   "source": [
    "git_data_path = '../base_data/'\n",
    "country_paths = ['Brazil','Colombia','Guatemala','Puerto_Rico','United_States']\n",
    "\n",
    "for i, country in enumerate(country_paths) :\n",
    "    country_paths[i] = git_data_path + country\n",
    "    \n",
    "data_path = []\n",
    "    \n",
    "for path in country_paths : \n",
    "    temp_tab = []\n",
    "    for d in os.listdir(path):\n",
    "        if os.path.isdir(path + '/' + d):\n",
    "            temp_tab.append(path + '/' + d + '/data/')\n",
    "            \n",
    "    data_path.append(temp_tab)\n",
    "            \n",
    "print(data_path) "
   ]
  },
  {
   "cell_type": "code",
   "execution_count": 3,
   "metadata": {},
   "outputs": [],
   "source": [
    "df_test = pd.read_csv(data_path[0][1]+'Epidemiological_Bulletin-2016-04-02.csv')"
   ]
  },
  {
   "cell_type": "code",
   "execution_count": 4,
   "metadata": {},
   "outputs": [
    {
     "name": "stdout",
     "output_type": "stream",
     "text": [
      "   report_date                    location location_type data_field_code  \\\n",
      "0   2016-04-02                       Norte        region          BR0011   \n",
      "1   2016-04-02             Brazil-Rondonia         state          BR0011   \n",
      "2   2016-04-02                 Brazil-Acre         state          BR0011   \n",
      "3   2016-04-02             Brazil-Amazonas         state          BR0011   \n",
      "4   2016-04-02              Brazil-Roraima         state          BR0011   \n",
      "5   2016-04-02                 Brazil-Para         state          BR0011   \n",
      "6   2016-04-02                Brazil-Amapa         state          BR0011   \n",
      "7   2016-04-02            Brazil-Tocantins         state          BR0011   \n",
      "8   2016-04-02                    Nordeste        region          BR0011   \n",
      "9   2016-04-02             Brazil-Maranhao         state          BR0011   \n",
      "10  2016-04-02                Brazil-Piaui         state          BR0011   \n",
      "11  2016-04-02                Brazil-Ceara         state          BR0011   \n",
      "12  2016-04-02  Brazil-Rio_Grande_do_Norte         state          BR0011   \n",
      "13  2016-04-02              Brazil-Paraiba         state          BR0011   \n",
      "14  2016-04-02           Brazil-Pernambuco         state          BR0011   \n",
      "15  2016-04-02              Brazil-Alagoas         state          BR0011   \n",
      "16  2016-04-02              Brazil-Sergipe         state          BR0011   \n",
      "17  2016-04-02                Brazil-Bahia         state          BR0011   \n",
      "18  2016-04-02                     Sudeste        region          BR0011   \n",
      "19  2016-04-02         Brazil-Minas_Gerais         state          BR0011   \n",
      "20  2016-04-02       Brazil-Espirito_Santo         state          BR0011   \n",
      "21  2016-04-02       Brazil-Rio_de_Janeiro         state          BR0011   \n",
      "22  2016-04-02            Brazil-Sao_Paulo         state          BR0011   \n",
      "23  2016-04-02                         Sul        region          BR0011   \n",
      "24  2016-04-02               Brazil-Parana         state          BR0011   \n",
      "25  2016-04-02       Brazil-Santa_Catarina         state          BR0011   \n",
      "26  2016-04-02    Brazil-Rio_Grande_do_Sul         state          BR0011   \n",
      "27  2016-04-02                Centro-Oeste        region          BR0011   \n",
      "28  2016-04-02   Brazil-Mato_Grosso_do_Sul         state          BR0011   \n",
      "29  2016-04-02          Brazil-Mato_Grosso         state          BR0011   \n",
      "30  2016-04-02                Brazil-Goias         state          BR0011   \n",
      "31  2016-04-02     Brazil-Distrito_Federal         state          BR0011   \n",
      "32  2016-04-02                      Brazil       country          BR0011   \n",
      "\n",
      "    value  \n",
      "0    6295  \n",
      "1     618  \n",
      "2     375  \n",
      "3    1520  \n",
      "4      44  \n",
      "5     771  \n",
      "6      74  \n",
      "7    2893  \n",
      "8   30286  \n",
      "9    1202  \n",
      "10      7  \n",
      "11    156  \n",
      "12    640  \n",
      "13   1060  \n",
      "14    333  \n",
      "15   1479  \n",
      "16    348  \n",
      "17  25061  \n",
      "18  35505  \n",
      "19   6693  \n",
      "20   1382  \n",
      "21  25930  \n",
      "22   1500  \n",
      "23   1797  \n",
      "24   1540  \n",
      "25     62  \n",
      "26    195  \n",
      "27  17504  \n",
      "28    296  \n",
      "29  16055  \n",
      "30    920  \n",
      "31    233  \n",
      "32  91387  \n"
     ]
    }
   ],
   "source": [
    "is_BR0011 = df_test['data_field_code']=='BR0011'\n",
    "df_test = df_test[is_BR0011]\n",
    "df_test = df_test.drop(columns=['data_field','time_period','time_period_type','unit'])\n",
    "print(df_test)"
   ]
  },
  {
   "cell_type": "code",
   "execution_count": 5,
   "metadata": {},
   "outputs": [
    {
     "name": "stdout",
     "output_type": "stream",
     "text": [
      "\n",
      "\n",
      "\n",
      "\n",
      "\n",
      "\n",
      "\n",
      "\n",
      "Done\n"
     ]
    }
   ],
   "source": [
    "for country in data_path :\n",
    "    df = pd.DataFrame()\n",
    "    for data_dir in country :\n",
    "        \n",
    "\n",
    "        for file in os.listdir(data_dir):\n",
    "            df = df.append(pd.read_csv(data_dir + file, encoding = \"ANSI\")) \n",
    "            df = df.drop(columns=['data_field','time_period','time_period_type','unit'])\n",
    "            \n",
    "        print(os.path.basename(data_dir))\n",
    "\n",
    "        if 'Brazil' in data_dir:\n",
    "            filter_code = df['data_field_code']=='BR0011'\n",
    "            df = df[filter_code]\n",
    "            df = df.sort_values(by=['report_date'])\n",
    "            df.to_csv('../new_data_def/brazil.csv', index=False)\n",
    "        \n",
    "        elif 'Colombia' in data_dir:\n",
    "            filter_code = df['data_field_code'].isin(['CO0001','CO0002'])\n",
    "            df = df[filter_code]\n",
    "            df = df.sort_values(by=['report_date'])\n",
    "            df.to_csv('../new_data_def/colombia.csv', index=False)\n",
    "        \n",
    "        elif 'Guatemala' in data_dir:\n",
    "            filter_code = df['data_field_code']=='GT0001'\n",
    "            df = df[filter_code]\n",
    "            df = df.sort_values(by=['report_date'])\n",
    "            df.to_csv('../new_data_def/guatemala.csv', index=False)\n",
    "            \n",
    "        elif 'Puerto_Rico' in data_dir:\n",
    "            filter_code = df['data_field_code']=='PR0001'\n",
    "            df = df[filter_code]\n",
    "            df = df.sort_values(by=['report_date'])\n",
    "            df.to_csv('../new_data_def/puerto_rico.csv', index=False)\n",
    "            \n",
    "        elif 'United_States' in data_dir:\n",
    "            filter_code = df['data_field_code']=='US0001'\n",
    "            df = df[filter_code]\n",
    "            df = df.sort_values(by=['report_date'])\n",
    "            df.to_csv('../new_data_def/united_states.csv', index=False)\n",
    "\n",
    "print('Done')\n",
    "        "
   ]
  },
  {
   "cell_type": "code",
   "execution_count": null,
   "metadata": {},
   "outputs": [],
   "source": []
  }
 ],
 "metadata": {
  "kernelspec": {
   "display_name": "Python 3",
   "language": "python",
   "name": "python3"
  },
  "language_info": {
   "codemirror_mode": {
    "name": "ipython",
    "version": 3
   },
   "file_extension": ".py",
   "mimetype": "text/x-python",
   "name": "python",
   "nbconvert_exporter": "python",
   "pygments_lexer": "ipython3",
   "version": "3.8.3"
  }
 },
 "nbformat": 4,
 "nbformat_minor": 4
}
